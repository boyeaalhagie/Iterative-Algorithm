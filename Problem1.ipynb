{
 "cells": [
  {
   "cell_type": "markdown",
   "metadata": {},
   "source": [
    "# Lab 3: Iterative Algorithm Design"
   ]
  },
  {
   "cell_type": "markdown",
   "metadata": {},
   "source": [
    "### Problem 1: Determine if a Point is Located Inside a Polygon"
   ]
  },
  {
   "cell_type": "code",
   "execution_count": 55,
   "metadata": {},
   "outputs": [],
   "source": [
    "import time\n",
    "import random \n",
    "import pandas as pd\n",
    "import matplotlib.pyplot as plt\n",
    "from IPython.display import display"
   ]
  },
  {
   "cell_type": "code",
   "execution_count": 56,
   "metadata": {},
   "outputs": [
    {
     "name": "stdout",
     "output_type": "stream",
     "text": [
      "True\n"
     ]
    }
   ],
   "source": [
    "def is_point_inside_polygon(polygon_vertices, point):\n",
    "    \"\"\"\n",
    "    Determine if a point lies inside or outside a polygon using a ray-casting algorithm.\n",
    "\n",
    "    Parameters:\n",
    "    vertices -- list of tuples [(x1, y1), (x2, y2), ..., (xn, yn)] representing the polygon's vertices\n",
    "    location_to_test -- tuple (x, y) representing the point to be tested\n",
    "    \n",
    "    Returns:\n",
    "    True if the point is inside the polygon, False otherwise\n",
    "    \"\"\"\n",
    "    \n",
    "    # Initialize crossing count\n",
    "    crossings = 0\n",
    "    test_point_x, test_point_y = point\n",
    "\n",
    "    for i_vertex in range(len(polygon_vertices)):\n",
    "        segment_start_x, segment_start_y = polygon_vertices[i_vertex]\n",
    "        \n",
    "        # If we're at the last vertex, connect it to the first vertex\n",
    "        if i_vertex < len(polygon_vertices) - 1:\n",
    "            segment_end_x, segment_end_y = polygon_vertices[i_vertex + 1]\n",
    "        else:\n",
    "            segment_end_x, segment_end_y = polygon_vertices[0]\n",
    "\n",
    "        # Check that the ray falls within the range of x values for the start and end of the segment\n",
    "        if ((segment_start_x < test_point_x < segment_end_x) or \n",
    "            (segment_start_x > test_point_x > segment_end_x)):\n",
    "            \n",
    "            # Calculate the intersection point in the y direction\n",
    "            t = (test_point_x - segment_end_x) / (segment_start_x - segment_end_x)\n",
    "            crossing_y = (t * segment_start_y) + ((1 - t) * segment_end_y)\n",
    "            \n",
    "            # Check if the ray crosses the segment above the point\n",
    "            if crossing_y >= test_point_y:\n",
    "                crossings += 1\n",
    "\n",
    "        # Special case: check if the point lies exactly on a vertical segment\n",
    "        if (segment_start_x == test_point_x and \n",
    "            min(segment_start_y, segment_end_y) <= test_point_y <= max(segment_start_y, segment_end_y)):\n",
    "            return True  # Point is on the boundary\n",
    "\n",
    "    # If the number of crossings is odd, the point is inside; otherwise, it's outside\n",
    "    return crossings % 2 != 0\n",
    "\n",
    "# Example usage\n",
    "vertices = [(1, 1), (5, 1), (5, 5), (1, 5)]  # Polygon vertices\n",
    "test_point = (3, 3)  # Point to check\n",
    "print(is_point_inside_polygon(vertices, test_point))  # Output: True (Point is inside)\n"
   ]
  },
  {
   "cell_type": "markdown",
   "metadata": {},
   "source": [
    "### Test cases to check the functionality of our code\n"
   ]
  },
  {
   "cell_type": "code",
   "execution_count": null,
   "metadata": {},
   "outputs": [],
   "source": []
  },
  {
   "cell_type": "markdown",
   "metadata": {},
   "source": [
    "## Benchmarking "
   ]
  },
  {
   "cell_type": "code",
   "execution_count": 71,
   "metadata": {},
   "outputs": [],
   "source": [
    "# Function to generate a random polygon with n vertices\n",
    "def generate_random_polygon(n, max_x=100, max_y=100):\n",
    "    return [(random.randint(0, max_x), random.randint(0, max_y)) for _ in range(n)]"
   ]
  },
  {
   "cell_type": "code",
   "execution_count": 72,
   "metadata": {},
   "outputs": [],
   "source": [
    "# Benchmarking function\n",
    "def benchmark_polygon(point, start_size, end_size, step):\n",
    "    times = []\n",
    "    sizes = list(range(start_size, end_size, step))\n",
    "    for size in sizes:\n",
    "        polygon = generate_random_polygon(size)\n",
    "        start_time = time.time()\n",
    "        is_point_inside_polygon(polygon, point)\n",
    "        end_time = time.time()\n",
    "        times.append(end_time - start_time)\n",
    "    return sizes, times\n"
   ]
  },
  {
   "cell_type": "code",
   "execution_count": 73,
   "metadata": {},
   "outputs": [],
   "source": [
    "# Benchmarking Parameters\n",
    "start_size = 10\n",
    "end_size = 1000\n",
    "step = 50"
   ]
  },
  {
   "cell_type": "code",
   "execution_count": 74,
   "metadata": {},
   "outputs": [],
   "source": [
    "sizes, times = benchmark_polygon(test_point, start_size, end_size, step)\n"
   ]
  },
  {
   "cell_type": "code",
   "execution_count": 75,
   "metadata": {},
   "outputs": [],
   "source": [
    "# Create a DataFrame for the benchmark results\n",
    "benchmark_data = pd.DataFrame({\n",
    "    'Polygon Size': sizes,\n",
    "    'Execution Time (seconds)': times\n",
    "})"
   ]
  },
  {
   "cell_type": "code",
   "execution_count": 76,
   "metadata": {},
   "outputs": [
    {
     "data": {
      "text/html": [
       "<div>\n",
       "<style scoped>\n",
       "    .dataframe tbody tr th:only-of-type {\n",
       "        vertical-align: middle;\n",
       "    }\n",
       "\n",
       "    .dataframe tbody tr th {\n",
       "        vertical-align: top;\n",
       "    }\n",
       "\n",
       "    .dataframe thead th {\n",
       "        text-align: right;\n",
       "    }\n",
       "</style>\n",
       "<table border=\"1\" class=\"dataframe\">\n",
       "  <thead>\n",
       "    <tr style=\"text-align: right;\">\n",
       "      <th></th>\n",
       "      <th>Polygon Size</th>\n",
       "      <th>Execution Time (seconds)</th>\n",
       "    </tr>\n",
       "  </thead>\n",
       "  <tbody>\n",
       "    <tr>\n",
       "      <th>0</th>\n",
       "      <td>10</td>\n",
       "      <td>0.000</td>\n",
       "    </tr>\n",
       "    <tr>\n",
       "      <th>1</th>\n",
       "      <td>60</td>\n",
       "      <td>0.000</td>\n",
       "    </tr>\n",
       "    <tr>\n",
       "      <th>2</th>\n",
       "      <td>110</td>\n",
       "      <td>0.000</td>\n",
       "    </tr>\n",
       "    <tr>\n",
       "      <th>3</th>\n",
       "      <td>160</td>\n",
       "      <td>0.000</td>\n",
       "    </tr>\n",
       "    <tr>\n",
       "      <th>4</th>\n",
       "      <td>210</td>\n",
       "      <td>0.000</td>\n",
       "    </tr>\n",
       "    <tr>\n",
       "      <th>5</th>\n",
       "      <td>260</td>\n",
       "      <td>0.000</td>\n",
       "    </tr>\n",
       "    <tr>\n",
       "      <th>6</th>\n",
       "      <td>310</td>\n",
       "      <td>0.000</td>\n",
       "    </tr>\n",
       "    <tr>\n",
       "      <th>7</th>\n",
       "      <td>360</td>\n",
       "      <td>0.000</td>\n",
       "    </tr>\n",
       "    <tr>\n",
       "      <th>8</th>\n",
       "      <td>410</td>\n",
       "      <td>0.000</td>\n",
       "    </tr>\n",
       "    <tr>\n",
       "      <th>9</th>\n",
       "      <td>460</td>\n",
       "      <td>0.000</td>\n",
       "    </tr>\n",
       "    <tr>\n",
       "      <th>10</th>\n",
       "      <td>510</td>\n",
       "      <td>0.000</td>\n",
       "    </tr>\n",
       "    <tr>\n",
       "      <th>11</th>\n",
       "      <td>560</td>\n",
       "      <td>0.000</td>\n",
       "    </tr>\n",
       "    <tr>\n",
       "      <th>12</th>\n",
       "      <td>610</td>\n",
       "      <td>0.000</td>\n",
       "    </tr>\n",
       "    <tr>\n",
       "      <th>13</th>\n",
       "      <td>660</td>\n",
       "      <td>0.000</td>\n",
       "    </tr>\n",
       "    <tr>\n",
       "      <th>14</th>\n",
       "      <td>710</td>\n",
       "      <td>0.000</td>\n",
       "    </tr>\n",
       "    <tr>\n",
       "      <th>15</th>\n",
       "      <td>760</td>\n",
       "      <td>0.000</td>\n",
       "    </tr>\n",
       "    <tr>\n",
       "      <th>16</th>\n",
       "      <td>810</td>\n",
       "      <td>0.000</td>\n",
       "    </tr>\n",
       "    <tr>\n",
       "      <th>17</th>\n",
       "      <td>860</td>\n",
       "      <td>0.001</td>\n",
       "    </tr>\n",
       "    <tr>\n",
       "      <th>18</th>\n",
       "      <td>910</td>\n",
       "      <td>0.000</td>\n",
       "    </tr>\n",
       "    <tr>\n",
       "      <th>19</th>\n",
       "      <td>960</td>\n",
       "      <td>0.000</td>\n",
       "    </tr>\n",
       "  </tbody>\n",
       "</table>\n",
       "</div>"
      ],
      "text/plain": [
       "    Polygon Size  Execution Time (seconds)\n",
       "0             10                     0.000\n",
       "1             60                     0.000\n",
       "2            110                     0.000\n",
       "3            160                     0.000\n",
       "4            210                     0.000\n",
       "5            260                     0.000\n",
       "6            310                     0.000\n",
       "7            360                     0.000\n",
       "8            410                     0.000\n",
       "9            460                     0.000\n",
       "10           510                     0.000\n",
       "11           560                     0.000\n",
       "12           610                     0.000\n",
       "13           660                     0.000\n",
       "14           710                     0.000\n",
       "15           760                     0.000\n",
       "16           810                     0.000\n",
       "17           860                     0.001\n",
       "18           910                     0.000\n",
       "19           960                     0.000"
      ]
     },
     "metadata": {},
     "output_type": "display_data"
    }
   ],
   "source": [
    "display(benchmark_data)"
   ]
  },
  {
   "cell_type": "code",
   "execution_count": 77,
   "metadata": {},
   "outputs": [
    {
     "data": {
      "image/png": "[encoded data removed]",
      "text/plain": [
       "<Figure size 640x480 with 1 Axes>"
      ]
     },
     "metadata": {},
     "output_type": "display_data"
    }
   ],
   "source": [
    "# Plot the results\n",
    "plt.plot(sizes, times, marker='o')\n",
    "plt.xlabel('Polygon Size')\n",
    "plt.ylabel('Execution Time (seconds)')\n",
    "plt.title('Benchmarking: Polygon Size vs Execution Time')\n",
    "plt.grid(True)\n",
    "plt.show()"
   ]
  },
  {
   "cell_type": "code",
   "execution_count": null,
   "metadata": {},
   "outputs": [],
   "source": []
  }
 ],
 "metadata": {
  "kernelspec": {
   "display_name": "Python 3",
   "language": "python",
   "name": "python3"
  },
  "language_info": {
   "codemirror_mode": {
    "name": "ipython",
    "version": 3
   },
   "file_extension": ".py",
   "mimetype": "text/x-python",
   "name": "python",
   "nbconvert_exporter": "python",
   "pygments_lexer": "ipython3",
   "version": "3.12.7"
  }
 },
 "nbformat": 4,
 "nbformat_minor": 2
}
